{
 "cells": [
  {
   "cell_type": "code",
   "execution_count": 9,
   "metadata": {},
   "outputs": [
    {
     "name": "stdout",
     "output_type": "stream",
     "text": [
      "[0.11301224 0.08133931]\n",
      "[ 0.0322798  -0.01208356]\n",
      "[ 0.0228068  -0.01971984]\n",
      "[ 0.01506575 -0.01491846]\n",
      "[ 0.00789066 -0.00833629]\n",
      "[ 0.00347729 -0.00389073]\n",
      "[ 0.00139613 -0.00166056]\n",
      "[ 0.00053697 -0.00068269]\n"
     ]
    },
    {
     "data": {
      "image/png": "[encoded data removed]",
      "text/plain": [
       "<Figure size 432x288 with 1 Axes>"
      ]
     },
     "metadata": {},
     "output_type": "display_data"
    }
   ],
   "source": [
    "import numpy as np\n",
    "import math\n",
    "import matplotlib.pyplot as  plt\n",
    "import csv\n",
    "\n",
    "def get_binomial_log_likelihood(obs, probs):\n",
    "    N = sum(obs)\n",
    "    k = obs[0]\n",
    "    binomial_coeff = math.factorial(N) / (math.factorial(N-k) * math.factorial(k))\n",
    "    prod_probs = obs[0]*math.log(probs[0]) + obs[1]*math.log(1-probs[0])\n",
    "    log_lik = binomial_coeff + prod_probs\n",
    "    return log_lik\n",
    "\n",
    "data = []\n",
    "with open(\"./p8.csv\") as tsv:\n",
    "    for line in csv.reader(tsv):\n",
    "        data = [int(i) for i in line]\n",
    "        \n",
    "head_counts = np.array(data)\n",
    "tail_counts = 10 - head_counts\n",
    "experiments = list(zip(head_counts, tail_counts))\n",
    "\n",
    "pA_heads = np.zeros(100)\n",
    "pA_heads[0]=0.60\n",
    "pB_heads = np.zeros(100)\n",
    "pB_heads[0]=0.50\n",
    "\n",
    "delta = 0.001\n",
    "j = 0\n",
    "improvement = float('inf')\n",
    "while(improvement > delta):\n",
    "    expectation_A = np.zeros((len(experiments),2), dtype=float)\n",
    "    expectation_B = np.zeros((len(experiments),2), dtype=float)\n",
    "    for i in range(0, len(experiments)):\n",
    "        e = experiments[i]\n",
    "        ll_A = get_binomial_log_likelihood(e, np.array([pA_heads[j],1-pA_heads[j]]))\n",
    "        ll_B = get_binomial_log_likelihood(e, np.array([pB_heads[j],1-pB_heads[j]]))\n",
    "        weightA = math.exp(ll_A) / (math.exp(ll_A) + math.exp(ll_B))\n",
    "        weightB = math.exp(ll_B) / (math.exp(ll_A) + math.exp(ll_B))\n",
    "        \n",
    "        expectation_A[i] = np.dot(weightA, e)\n",
    "        expectation_B[i] = np.dot(weightB, e)\n",
    "        \n",
    "    pA_heads[j+1] = sum(expectation_A)[0] / sum(sum(expectation_A))\n",
    "    pB_heads[j+1] = sum(expectation_B)[0] / sum(sum(expectation_B))\n",
    "        \n",
    "    improvement = (max(abs(np.array([pA_heads[j+1], pB_heads[j+1]]) - np.array([pA_heads[j], pB_heads[j]]))))\n",
    "    print(np.array([pA_heads[j+1], pB_heads[j+1]]) - np.array([pA_heads[j], pB_heads[j]]))\n",
    "        \n",
    "    j = j+1\n",
    "        \n",
    "plt.figure()\n",
    "plt.plot(range(0,j), pA_heads[0:j])\n",
    "plt.plot(range(0,j), pB_heads[0:j])\n",
    "plt.show()        "
   ]
  },
  {
   "cell_type": "code",
   "execution_count": null,
   "metadata": {},
   "outputs": [],
   "source": []
  }
 ],
 "metadata": {
  "kernelspec": {
   "display_name": "Python 3",
   "language": "python",
   "name": "python3"
  },
  "language_info": {
   "codemirror_mode": {
    "name": "ipython",
    "version": 3
   },
   "file_extension": ".py",
   "mimetype": "text/x-python",
   "name": "python",
   "nbconvert_exporter": "python",
   "pygments_lexer": "ipython3",
   "version": "3.6.5"
  }
 },
 "nbformat": 4,
 "nbformat_minor": 2
}

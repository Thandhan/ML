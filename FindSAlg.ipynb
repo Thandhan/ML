{
 "cells": [
  {
   "cell_type": "code",
   "execution_count": 29,
   "metadata": {},
   "outputs": [
    {
     "name": "stdout",
     "output_type": "stream",
     "text": [
      "The Training Examples are : \n",
      "['Sunny' 'Warm' 'Normal' 'Strong' 'Warm' 'Same' 'Yes']\n",
      "['Sunny' 'Warm' 'High' 'Strong' 'Warm' 'Same' 'Yes']\n",
      "['Sunny' 'Warm' 'High' 'Strong' 'Cool' 'Change' 'Yes']\n",
      "\n",
      "Steps of Find-s Algorithm :\n",
      "\n",
      "['Sunny' 'Warm' 'Normal' 'Strong' 'Warm' 'Same']\n",
      "['Sunny' 'Warm' '?' 'Strong' 'Warm' 'Same']\n",
      "['Sunny' 'Warm' '?' 'Strong' '?' '?']\n",
      "\n",
      "\n",
      "Max Specific Find-S hypothesis for given csv are :\n",
      "['Sunny' 'Warm' '?' 'Strong' '?' '?']\n"
     ]
    }
   ],
   "source": [
    "import pandas as pd\n",
    "hypo = ['%','%','%','%','%','%']\n",
    "dataset = pd.read_csv('p1.csv')\n",
    "X = dataset.iloc[:, :].values\n",
    "data = []\n",
    "for row in X:\n",
    "    if row[len(row)-1].upper() == \"YES\":\n",
    "        data.append(row)\n",
    "print('The Training Examples are : ')\n",
    "for x in data:\n",
    "    print(x)\n",
    "print('\\nSteps of Find-s Algorithm :\\n') \n",
    "hypo = data[0]\n",
    "hypo = hypo[0:-1]\n",
    "for i in range(len(data)):\n",
    "    for k in range(d):\n",
    "        if hypo[k] != data[i][k]:\n",
    "            hypo[k] = '?'\n",
    "    print(hypo)\n",
    "print('\\n\\nMax Specific Find-S hypothesis for given csv are :')\n",
    "print(hypo)"
   ]
  }
 ],
 "metadata": {
  "kernelspec": {
   "display_name": "Python 2",
   "language": "python",
   "name": "python2"
  },
  "language_info": {
   "codemirror_mode": {
    "name": "ipython",
    "version": 2
   },
   "file_extension": ".py",
   "mimetype": "text/x-python",
   "name": "python",
   "nbconvert_exporter": "python",
   "pygments_lexer": "ipython2",
   "version": "2.7.15"
  }
 },
 "nbformat": 4,
 "nbformat_minor": 2
}

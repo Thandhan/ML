{
 "cells": [
  {
   "cell_type": "code",
   "execution_count": 10,
   "metadata": {},
   "outputs": [
    {
     "name": "stdout",
     "output_type": "stream",
     "text": [
      "Accuracy: 0.8275632490013316\n",
      "                        precision    recall  f1-score   support\n",
      "\n",
      "           alt.atheism       0.96      0.58      0.73       319\n",
      "         comp.graphics       0.96      0.89      0.92       389\n",
      "               sci.med       0.97      0.81      0.88       396\n",
      "soc.religion.christian       0.63      0.99      0.77       398\n",
      "\n",
      "             micro avg       0.83      0.83      0.83      1502\n",
      "             macro avg       0.88      0.82      0.83      1502\n",
      "          weighted avg       0.88      0.83      0.83      1502\n",
      "\n",
      "Confusion matrix is \n",
      " [[186   2   6 125]\n",
      " [  2 345   3  39]\n",
      " [  3   9 319  65]\n",
      " [  2   2   1 393]]\n"
     ]
    }
   ],
   "source": [
    "from sklearn.datasets import fetch_20newsgroups\n",
    "from sklearn.metrics import confusion_matrix\n",
    "from sklearn.metrics import classification_report\n",
    "from sklearn.feature_extraction.text import CountVectorizer\n",
    "from sklearn.feature_extraction.text import TfidfTransformer\n",
    "from sklearn.naive_bayes import MultinomialNB\n",
    "from sklearn.metrics import accuracy_score\n",
    "\n",
    "# Downloads the dataset\n",
    "categories = ['alt.atheism', 'soc.religion.christian', 'comp.graphics', 'sci.med']\n",
    "twenty_train = fetch_20newsgroups(subset='train', categories=categories, shuffle=True )\n",
    "twenty_test = fetch_20newsgroups(subset='test', categories=categories, shuffle=True )\n",
    "\n",
    "# Printing 1 sample input\n",
    "# print(len(twenty_train.data))\n",
    "# print(len(twenty_test.data))\n",
    "# print(twenty_train.target_names)\n",
    "# print(\"\\n\".join(twenty_train.data[1].split(\"\\n\")))\n",
    "# print(twenty_train.target[1])\n",
    "\n",
    "count_vect = CountVectorizer()\n",
    "tfidf_transformer = TfidfTransformer()\n",
    "mod = MultinomialNB()\n",
    "\n",
    "# creating training dataset\n",
    "X_train_tf = count_vect.fit_transform(twenty_train.data)\n",
    "X_train_tfidf = tfidf_transformer.fit_transform(X_train_tf)\n",
    "X_train_tfidf.shape\n",
    "\n",
    "# generating model\n",
    "mod.fit(X_train_tfidf, twenty_train.target)\n",
    "\n",
    "# creating test dataset\n",
    "X_test_tf = count_vect.transform(twenty_test.data)\n",
    "X_test_tfidf = tfidf_transformer.fit_transform(X_test_tf)\n",
    "\n",
    "# Prediction wrt to generated model\n",
    "predicted = mod.predict(X_test_tfidf)\n",
    "\n",
    "print(\"Accuracy:\", accuracy_score(twenty_test.target, predicted))\n",
    "print(classification_report(twenty_test.target, predicted, target_names = twenty_test.target_names))\n",
    "print(\"Confusion matrix is \\n\", confusion_matrix(twenty_test.target, predicted))\n"
   ]
  }
 ],
 "metadata": {
  "kernelspec": {
   "display_name": "Python 3",
   "language": "python",
   "name": "python3"
  },
  "language_info": {
   "codemirror_mode": {
    "name": "ipython",
    "version": 3
   },
   "file_extension": ".py",
   "mimetype": "text/x-python",
   "name": "python",
   "nbconvert_exporter": "python",
   "pygments_lexer": "ipython3",
   "version": "3.6.5"
  }
 },
 "nbformat": 4,
 "nbformat_minor": 2
}
